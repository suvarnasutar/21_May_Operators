{
 "cells": [
  {
   "cell_type": "code",
   "execution_count": null,
   "id": "c76ecc16",
   "metadata": {},
   "outputs": [],
   "source": [
    "    ######  Que 1  #######"
   ]
  },
  {
   "cell_type": "code",
   "execution_count": null,
   "id": "f77f72fc",
   "metadata": {},
   "outputs": [],
   "source": [
    "Q.1. Create two int type variables, apply addition, subtraction, division and multiplications\n",
    "and store the results in variables. Then print the data in the following format by calling the\n",
    "variables:\n",
    "First variable is __ & second variable is __.\n",
    "Addition: __ + __ = __\n",
    "Subtraction: __ - __ = __\n",
    "Multiplication: __ * __ = __\n",
    "Division: __ / __ = __"
   ]
  },
  {
   "cell_type": "code",
   "execution_count": 20,
   "id": "d196c98e",
   "metadata": {},
   "outputs": [
    {
     "name": "stdout",
     "output_type": "stream",
     "text": [
      "First variable is : 7\n",
      "and second variable is : 4\n",
      "Addition : 7+4 =  11\n",
      "Subtraction : 7-4 =  3\n",
      "Multiplication  : 7*4 =  28\n",
      "Division : 7/4 =  1.75\n"
     ]
    }
   ],
   "source": [
    "a = int(input(\"First variable is : \"))\n",
    "b = int(input(\"and second variable is : \"))\n",
    "add = a + b\n",
    "print(f\"Addition : {a}+{b} = \",add)\n",
    "sub = a - b\n",
    "print(f\"Subtraction : {a}-{b} = \",sub)\n",
    "mul = a * b\n",
    "print(f\"Multiplication  : {a}*{b} = \",mul)\n",
    "div = a / b\n",
    "print(f\"Division : {a}/{b} = \",div)"
   ]
  },
  {
   "cell_type": "code",
   "execution_count": null,
   "id": "cf326e39",
   "metadata": {},
   "outputs": [],
   "source": []
  },
  {
   "cell_type": "code",
   "execution_count": null,
   "id": "e8f05d77",
   "metadata": {},
   "outputs": [],
   "source": [
    "    ######  Que 2  #######"
   ]
  },
  {
   "cell_type": "code",
   "execution_count": null,
   "id": "cd6920cb",
   "metadata": {},
   "outputs": [],
   "source": [
    "Q.2. What is the difference between the following operators:\n",
    "(i) ‘/’ & ‘//’\n",
    "(ii) ‘**’ & ‘^’"
   ]
  },
  {
   "cell_type": "code",
   "execution_count": 3,
   "id": "6db0feb2",
   "metadata": {},
   "outputs": [
    {
     "name": "stdout",
     "output_type": "stream",
     "text": [
      "First variable is : 5\n",
      " and second variable is : 2\n",
      "Division :  2.5\n",
      "Division1 :  2\n"
     ]
    }
   ],
   "source": [
    "(i)‘/’ & ‘//’\n",
    "a = int(input(\"First variable is : \"))\n",
    "b = int(input(\" and second variable is : \"))\n",
    "div = a / b     #  The output of this operator is always a quotient with a float datatype.\n",
    "print(f\"Division : \",div)\n",
    "div1 = a // b   #  The output of this operator will be the quotient rounded off to the closest whole number.\n",
    "print(f\"Division1 : \",div1)"
   ]
  },
  {
   "cell_type": "code",
   "execution_count": null,
   "id": "b0499ad3",
   "metadata": {},
   "outputs": [],
   "source": [
    "(ii)‘**’ & ‘^’\n",
    " ‘**’ :The double- asterisks (**) work as an exponentiation operator.\n",
    " ‘^’  :This is bitwise XOR.\n",
    "       The ^ operator compares each bit and set it to 1 if only one is 1, otherwise (if both are 1 or both are 0) it is set \n",
    "       to 0"
   ]
  },
  {
   "cell_type": "code",
   "execution_count": 22,
   "id": "6768c260",
   "metadata": {},
   "outputs": [
    {
     "data": {
      "text/plain": [
       "64"
      ]
     },
     "execution_count": 22,
     "metadata": {},
     "output_type": "execute_result"
    }
   ],
   "source": [
    "2**6   # exponentiation"
   ]
  },
  {
   "cell_type": "code",
   "execution_count": 23,
   "id": "b93a94dd",
   "metadata": {},
   "outputs": [
    {
     "data": {
      "text/plain": [
       "5"
      ]
     },
     "execution_count": 23,
     "metadata": {},
     "output_type": "execute_result"
    }
   ],
   "source": [
    "6^3    # bitwise XOR"
   ]
  },
  {
   "cell_type": "code",
   "execution_count": null,
   "id": "a520b4b1",
   "metadata": {},
   "outputs": [],
   "source": []
  },
  {
   "cell_type": "code",
   "execution_count": null,
   "id": "53f5b43d",
   "metadata": {},
   "outputs": [],
   "source": [
    "     ######  Que 3   #######"
   ]
  },
  {
   "cell_type": "code",
   "execution_count": null,
   "id": "f5f12eed",
   "metadata": {},
   "outputs": [],
   "source": [
    "Q.3. List the logical operators."
   ]
  },
  {
   "cell_type": "code",
   "execution_count": null,
   "id": "67e47f1a",
   "metadata": {},
   "outputs": [],
   "source": [
    "In Python there are three logical operators.\n",
    "    1. And Operator\n",
    "    2. Or Operator\n",
    "    3. Not Operator\n",
    "logical operators carry out logical operations and return Boolean values based on the result. \n",
    "1.and operator\n",
    "true and true = true\n",
    "true and false =false\n",
    "false and false =false\n",
    "Examples:"
   ]
  },
  {
   "cell_type": "code",
   "execution_count": 7,
   "id": "810d6722",
   "metadata": {},
   "outputs": [
    {
     "data": {
      "text/plain": [
       "True"
      ]
     },
     "execution_count": 7,
     "metadata": {},
     "output_type": "execute_result"
    }
   ],
   "source": [
    "# and operator true and true = true\n",
    "n = 6 \n",
    "n > 5 and n < 10"
   ]
  },
  {
   "cell_type": "code",
   "execution_count": 8,
   "id": "1afdba72",
   "metadata": {},
   "outputs": [
    {
     "data": {
      "text/plain": [
       "False"
      ]
     },
     "execution_count": 8,
     "metadata": {},
     "output_type": "execute_result"
    }
   ],
   "source": [
    "# and operator true and false = false\n",
    "n = 6\n",
    "n < 5 and n < 10"
   ]
  },
  {
   "cell_type": "code",
   "execution_count": 9,
   "id": "a79b6b9c",
   "metadata": {},
   "outputs": [
    {
     "data": {
      "text/plain": [
       "False"
      ]
     },
     "execution_count": 9,
     "metadata": {},
     "output_type": "execute_result"
    }
   ],
   "source": [
    "# and operator false and false = false\n",
    "n = 6\n",
    "n < 5 and n < 3"
   ]
  },
  {
   "cell_type": "code",
   "execution_count": null,
   "id": "c706ee94",
   "metadata": {},
   "outputs": [],
   "source": [
    "2. or operator\n",
    "true or true = true\n",
    "true or false =true\n",
    "false or false =false\n",
    "Examples:"
   ]
  },
  {
   "cell_type": "code",
   "execution_count": 10,
   "id": "43f1a25a",
   "metadata": {},
   "outputs": [
    {
     "data": {
      "text/plain": [
       "True"
      ]
     },
     "execution_count": 10,
     "metadata": {},
     "output_type": "execute_result"
    }
   ],
   "source": [
    "# or operator false or true = true\n",
    "n = 10\n",
    "n < 5 or n < 15"
   ]
  },
  {
   "cell_type": "code",
   "execution_count": 11,
   "id": "13296b05",
   "metadata": {},
   "outputs": [
    {
     "data": {
      "text/plain": [
       "False"
      ]
     },
     "execution_count": 11,
     "metadata": {},
     "output_type": "execute_result"
    }
   ],
   "source": [
    "# or operator false or false = false\n",
    "n = 10\n",
    "n < 5 or n < 7"
   ]
  },
  {
   "cell_type": "code",
   "execution_count": 13,
   "id": "720083e1",
   "metadata": {},
   "outputs": [
    {
     "data": {
      "text/plain": [
       "True"
      ]
     },
     "execution_count": 13,
     "metadata": {},
     "output_type": "execute_result"
    }
   ],
   "source": [
    "# or operator true or true = true\n",
    "n = 10\n",
    "n > 4 or n > 7"
   ]
  },
  {
   "cell_type": "code",
   "execution_count": null,
   "id": "e00ee7ff",
   "metadata": {},
   "outputs": [],
   "source": [
    "3. not operator\n",
    "not true = false\n",
    "not false = true\n",
    "Examples:"
   ]
  },
  {
   "cell_type": "code",
   "execution_count": 14,
   "id": "5d5089b7",
   "metadata": {},
   "outputs": [
    {
     "data": {
      "text/plain": [
       "False"
      ]
     },
     "execution_count": 14,
     "metadata": {},
     "output_type": "execute_result"
    }
   ],
   "source": [
    "#  not operator not true = false\n",
    "n =5\n",
    "n>6"
   ]
  },
  {
   "cell_type": "code",
   "execution_count": 15,
   "id": "29921699",
   "metadata": {},
   "outputs": [
    {
     "data": {
      "text/plain": [
       "True"
      ]
     },
     "execution_count": 15,
     "metadata": {},
     "output_type": "execute_result"
    }
   ],
   "source": [
    "#  not operator not false = true\n",
    "n =5\n",
    "n<6"
   ]
  },
  {
   "cell_type": "code",
   "execution_count": null,
   "id": "390b3607",
   "metadata": {},
   "outputs": [],
   "source": []
  },
  {
   "cell_type": "code",
   "execution_count": null,
   "id": "c1c0b984",
   "metadata": {},
   "outputs": [],
   "source": [
    "      ######  Que 4  #######"
   ]
  },
  {
   "cell_type": "code",
   "execution_count": null,
   "id": "b349bea3",
   "metadata": {},
   "outputs": [],
   "source": [
    "Q.4. Explain right shift operator and left shift operator with examples."
   ]
  },
  {
   "cell_type": "code",
   "execution_count": null,
   "id": "52f6308e",
   "metadata": {},
   "outputs": [],
   "source": [
    "Right shift operator:\n",
    "    The left operand’s value is moved toward right by the number of bits specified by the right operand."
   ]
  },
  {
   "cell_type": "code",
   "execution_count": 16,
   "id": "6425590b",
   "metadata": {},
   "outputs": [
    {
     "data": {
      "text/plain": [
       "5"
      ]
     },
     "execution_count": 16,
     "metadata": {},
     "output_type": "execute_result"
    }
   ],
   "source": [
    "a = 10      #      10= 0000 1010 (Binary)\n",
    "a >> 1      #   shifting right by 1 place = 0000 0101 = 5 "
   ]
  },
  {
   "cell_type": "code",
   "execution_count": null,
   "id": "9cca280f",
   "metadata": {},
   "outputs": [],
   "source": [
    "Left shift operator:\n",
    "     The left operand’s value is moved toward left by the number of bits specified by the right operand."
   ]
  },
  {
   "cell_type": "code",
   "execution_count": 17,
   "id": "e3c05ab7",
   "metadata": {},
   "outputs": [
    {
     "data": {
      "text/plain": [
       "20"
      ]
     },
     "execution_count": 17,
     "metadata": {},
     "output_type": "execute_result"
    }
   ],
   "source": [
    "a = 10      #      10= 0000 1010 (Binary)\n",
    "a << 1      #   shifting left by 1 place = 0001 0100 = 20"
   ]
  },
  {
   "cell_type": "code",
   "execution_count": null,
   "id": "714d4b05",
   "metadata": {},
   "outputs": [],
   "source": []
  },
  {
   "cell_type": "code",
   "execution_count": null,
   "id": "3517e473",
   "metadata": {},
   "outputs": [],
   "source": [
    "      ######  Que 5  #######"
   ]
  },
  {
   "cell_type": "code",
   "execution_count": null,
   "id": "f34767ea",
   "metadata": {},
   "outputs": [],
   "source": [
    "Q.5. Create a list containing int type data of length 15. Then write a code to check if 10 is\n",
    "present in the list or not."
   ]
  },
  {
   "cell_type": "code",
   "execution_count": 21,
   "id": "e7f679d3",
   "metadata": {},
   "outputs": [
    {
     "name": "stdout",
     "output_type": "stream",
     "text": [
      "10 is present in the list !!!!!!\n"
     ]
    }
   ],
   "source": [
    "list=[1,2,3,4,5,6,7,8,9,12,43,45,10,17,23]\n",
    "for i in list:\n",
    "    if(i == 10):\n",
    "        print(f\"10 is present in the list !!!!!!\")"
   ]
  },
  {
   "cell_type": "code",
   "execution_count": null,
   "id": "afd5bdf1",
   "metadata": {},
   "outputs": [],
   "source": [
    "   "
   ]
  }
 ],
 "metadata": {
  "kernelspec": {
   "display_name": "Python 3 (ipykernel)",
   "language": "python",
   "name": "python3"
  },
  "language_info": {
   "codemirror_mode": {
    "name": "ipython",
    "version": 3
   },
   "file_extension": ".py",
   "mimetype": "text/x-python",
   "name": "python",
   "nbconvert_exporter": "python",
   "pygments_lexer": "ipython3",
   "version": "3.11.3"
  }
 },
 "nbformat": 4,
 "nbformat_minor": 5
}
